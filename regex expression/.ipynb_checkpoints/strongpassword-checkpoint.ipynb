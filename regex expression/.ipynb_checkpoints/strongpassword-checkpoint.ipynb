{
 "cells": [
  {
   "cell_type": "code",
   "execution_count": 20,
   "id": "14366577-b7f2-4889-9f51-57411f652350",
   "metadata": {},
   "outputs": [
    {
     "name": "stdout",
     "output_type": "stream",
     "text": [
      "Password is weak\n"
     ]
    }
   ],
   "source": [
    "import re\n",
    "\n",
    "def is_valid_password(password):\n",
    "    \n",
    "    pattern = r'^(?=.*[a-z])(?=.*[A-Z])(?=.*\\d)(?=.*[@\\(\\)!%?&])[A-Za-z\\d@ \\)!%?&]{8,}$'\n",
    "    \n",
    "    \n",
    "    matches = re.search(pattern, password)\n",
    "    \n",
    "    if matches:\n",
    "        print(\"Password is strong\")\n",
    "    else:\n",
    "        print(\"Password is weak\")\n",
    "\n",
    "\n",
    "password = \"rachitnewpass\"\n",
    "is_valid_password(password)\n",
    "\n"
   ]
  },
  {
   "cell_type": "code",
   "execution_count": null,
   "id": "5532618a-170e-43e0-b172-eb03160ff129",
   "metadata": {},
   "outputs": [],
   "source": []
  }
 ],
 "metadata": {
  "kernelspec": {
   "display_name": "Python 3 (ipykernel)",
   "language": "python",
   "name": "python3"
  },
  "language_info": {
   "codemirror_mode": {
    "name": "ipython",
    "version": 3
   },
   "file_extension": ".py",
   "mimetype": "text/x-python",
   "name": "python",
   "nbconvert_exporter": "python",
   "pygments_lexer": "ipython3",
   "version": "3.12.4"
  }
 },
 "nbformat": 4,
 "nbformat_minor": 5
}
