{
 "cells": [
  {
   "cell_type": "code",
   "execution_count": 46,
   "id": "399b9a50-6032-42a9-a9c2-2823d55b4000",
   "metadata": {},
   "outputs": [
    {
     "name": "stdout",
     "output_type": "stream",
     "text": [
      "email is valid\n",
      "email is valid\n",
      "email is valid\n",
      "email is valid\n"
     ]
    }
   ],
   "source": [
    "# WAP THAT TAKES A LIST OF EMAILS AND PRINT WETHER ITS VALID OR INVALID\n",
    "import re\n",
    "def is_valid_email(emails):\n",
    "    pattern = r'^[a-zA-Z0-9._%+-]+@[a-zA-Z0-9.-]+\\.[a-zA-Z]{2,}'\n",
    "    matches=re.search(pattern,email,re.IGNORECASE)\n",
    "    if matches.group()==email:\n",
    "        print(\"email is valid\")\n",
    "    else:\n",
    "        print(\"email is invalid\")\n",
    "\n",
    "\n",
    "emails=[\"rachittyagi850@gmail.com\" , \"rachittyagi850@gmail.com\",\"rachittyagi850@gmail.com\",\"rachittyagi850@gmail.com\"]\n",
    "# is_valid_email(emails)\n",
    "for email in emails:\n",
    "    is_valid_email(email)"
   ]
  },
  {
   "cell_type": "code",
   "execution_count": null,
   "id": "6f7e20cc-c980-4e1c-8a7a-5f76bc82c43d",
   "metadata": {},
   "outputs": [],
   "source": []
  }
 ],
 "metadata": {
  "kernelspec": {
   "display_name": "Python 3 (ipykernel)",
   "language": "python",
   "name": "python3"
  },
  "language_info": {
   "codemirror_mode": {
    "name": "ipython",
    "version": 3
   },
   "file_extension": ".py",
   "mimetype": "text/x-python",
   "name": "python",
   "nbconvert_exporter": "python",
   "pygments_lexer": "ipython3",
   "version": "3.12.4"
  }
 },
 "nbformat": 4,
 "nbformat_minor": 5
}
