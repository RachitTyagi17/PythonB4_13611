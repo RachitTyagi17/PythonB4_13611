{
 "cells": [
  {
   "cell_type": "code",
   "execution_count": 22,
   "id": "c1b40f89-1596-413e-8aef-c42cb7e84995",
   "metadata": {},
   "outputs": [
    {
     "name": "stdout",
     "output_type": "stream",
     "text": [
      "match found : casst\n"
     ]
    }
   ],
   "source": [
    "import re \n",
    "pattern = r\"c...t\" #dots will be equal to character between first and last \n",
    "text=\"the c casst on the mat\"\n",
    "match=re.search(pattern,text) #case sensitive\n",
    "print(\"match found :\"  , match.group() if match else \"no match\")"
   ]
  },
  {
   "cell_type": "code",
   "execution_count": 24,
   "id": "71a34a77-27e6-4e57-9286-d45d31e0b6a1",
   "metadata": {},
   "outputs": [
    {
     "name": "stdout",
     "output_type": "stream",
     "text": [
      "match found : e\n"
     ]
    }
   ],
   "source": [
    "pattern = r\"[a-z]\"  \n",
    "text=\"Hello World 123\"\n",
    "match=re.search(pattern,text) #case sensitive it will give the first element that matches\n",
    "print(\"match found :\"  , match.group() if match else \"no match\")"
   ]
  },
  {
   "cell_type": "code",
   "execution_count": 32,
   "id": "d10f8f83-5514-4b3e-b0e8-4c4146eeede5",
   "metadata": {},
   "outputs": [
    {
     "name": "stdout",
     "output_type": "stream",
     "text": [
      "match found : ['ello', 'orld']\n"
     ]
    }
   ],
   "source": [
    "pattern = r\"[a-z]+\"  \n",
    "text=\"Hello World 123\"\n",
    "matches=re.findall(pattern,text) #case sensitive it will give all the  element that matches\n",
    "print(\"match found :\"  , matches)"
   ]
  },
  {
   "cell_type": "code",
   "execution_count": 46,
   "id": "f7c82da0-db42-4fad-b9e1-178080c2e270",
   "metadata": {},
   "outputs": [
    {
     "name": "stdout",
     "output_type": "stream",
     "text": [
      "match found : ['Hello', 'World']\n"
     ]
    }
   ],
   "source": [
    "pattern = r\"[a-z/A-Z]+\"  #not case sensitive now\n",
    "text=\"Hello World 123\"\n",
    "matches=re.findall(pattern,text) #not case sensitive it will give all the  element that matches\n",
    "print(\"match found :\"  , matches)"
   ]
  },
  {
   "cell_type": "code",
   "execution_count": 80,
   "id": "183ba515-9158-4187-96c7-772cc2e59b44",
   "metadata": {},
   "outputs": [
    {
     "name": "stdout",
     "output_type": "stream",
     "text": [
      "match found : ['Hello', 'World', '123']\n"
     ]
    }
   ],
   "source": [
    "pattern = r\"[a-z/A-Z\\d]+\"  #d will include integers\n",
    "text=\"Hello World 123\"\n",
    "matches=re.findall(pattern,text) #case sensitive it will give all the  element that matches\n",
    "print(\"match found :\"  , matches)"
   ]
  },
  {
   "cell_type": "code",
   "execution_count": 88,
   "id": "5fb0f0ca-8ec5-46e3-b01d-82f5270c7933",
   "metadata": {},
   "outputs": [
    {
     "name": "stdout",
     "output_type": "stream",
     "text": [
      "match found : ['Hello', 'World', '123']\n"
     ]
    }
   ],
   "source": [
    "pattern = r\"[\\w]+\"  #w will include ALL WORDS AND INTEGERS EXCEPT SPECIAL CHARACTER\n",
    "text=\"Hello World 123\"\n",
    "matches=re.findall(pattern,text) #case sensitive it will give all the  element that matches\n",
    "print(\"match found :\"  , matches)"
   ]
  },
  {
   "cell_type": "code",
   "execution_count": 92,
   "id": "398a0a35-1438-41c7-a9a8-0e41dbd601e1",
   "metadata": {},
   "outputs": [
    {
     "name": "stdout",
     "output_type": "stream",
     "text": [
      "match found : ['Hel', 'Wor', '123', '456', '789']\n"
     ]
    }
   ],
   "source": [
    "pattern = r\"\\d{3}\"  #{3} will include ALL three  um combos AND INTEGERS EXCEPT SPECIAL CHARACTER\n",
    "text=\"Hello World 1234567890\"\n",
    "matches=re.findall(pattern,text) #case sensitive it will give all the  element that matches\n",
    "print(\"match found :\"  , matches)"
   ]
  },
  {
   "cell_type": "code",
   "execution_count": 94,
   "id": "fa005584-e841-47d7-9c99-8c6e3b0ffde9",
   "metadata": {},
   "outputs": [
    {
     "name": "stdout",
     "output_type": "stream",
     "text": [
      "match found : ['Hel', 'Wor', '123', '456', '789']\n"
     ]
    }
   ],
   "source": [
    "pattern = r\"\\w{3}\"  #{3} w will include ALL alphabet combos AND INTEGERS EXCEPT SPECIAL CHARACTER\n",
    "text=\"Hello World 1234567890\"\n",
    "matches=re.findall(pattern,text) #case sensitive it will give all the  element that matches\n",
    "print(\"match found :\"  , matches)"
   ]
  },
  {
   "cell_type": "code",
   "execution_count": 106,
   "id": "4b60aa94-11fa-458e-becc-7a1d026e8c89",
   "metadata": {},
   "outputs": [
    {
     "name": "stdout",
     "output_type": "stream",
     "text": [
      "match found : llo\n"
     ]
    }
   ],
   "source": [
    "pattern = r\"[llo.]+\"  #it will maybe select all the alphabests\n",
    "text=\"Hello\"\n",
    "matches=re.search(pattern,text) #case sensitive it will give all the  element that matches\n",
    "print(\"match found :\"  , matches.group() if match else \"no match\" )\n"
   ]
  },
  {
   "cell_type": "code",
   "execution_count": 108,
   "id": "4212df55-05c3-4094-a876-d36ef284335b",
   "metadata": {},
   "outputs": [
    {
     "name": "stdout",
     "output_type": "stream",
     "text": [
      "match found : content\n",
      "lazy match found : \n"
     ]
    }
   ],
   "source": [
    "pattern = r\".*\" # dot include everything and * means 0 to anything\n",
    "text=\"content\"\n",
    "match=re.search(pattern,text) #case sensitive it will give all the  element that matches\n",
    "print(\"match found :\"  , match.group() if match else \"no match\" )\n",
    "pattern_lazy= r\".*?\" #it will asssume * value zero\n",
    "match_lazy=re.search(pattern_lazy,text)\n",
    "print(\"lazy match found :\"  , match_lazy.group() if match else \"no match\" )\n"
   ]
  },
  {
   "cell_type": "code",
   "execution_count": 112,
   "id": "206d8949-16b3-40ac-9865-7465d214df97",
   "metadata": {},
   "outputs": [
    {
     "name": "stdout",
     "output_type": "stream",
     "text": [
      "match found : content\n",
      "lazy match found : c\n"
     ]
    }
   ],
   "source": [
    "pattern = r\".+\" # dot include everything and + means ATLEAST ONE \n",
    "text=\"content\"\n",
    "match=re.search(pattern,text) #case sensitive it will give all the  element that matches\n",
    "print(\"match found :\"  , match.group() if match else \"no match\" )\n",
    "pattern_lazy= r\".+?\" # + WILL SELECT ATLEASTR ONE ALPHABET\n",
    "match_lazy=re.search(pattern_lazy,text)\n",
    "print(\"lazy match found :\"  , match_lazy.group() if match else \"no match\" )\n"
   ]
  },
  {
   "cell_type": "code",
   "execution_count": 116,
   "id": "f09ec9bf-a280-4165-9738-4f4d7c32c0ce",
   "metadata": {},
   "outputs": [
    {
     "name": "stdout",
     "output_type": "stream",
     "text": [
      "area code: 123\n",
      "local code: 45\n"
     ]
    }
   ],
   "source": [
    "pattern = r\"(\\d{3})-(\\d{2})\" #\n",
    "text=\"phone number: 123-45\"\n",
    "match=re.search(pattern,text) #case sensitive it will give all the  element that matches\n",
    "print(\"area code:\"  , match.group(1) if match else \"no match\" )\n",
    "print(\"local code:\"  , match.group(2) if match else \"no match\" )\n",
    "\n"
   ]
  },
  {
   "cell_type": "code",
   "execution_count": 120,
   "id": "082bbd1f-64f0-41e3-b709-91b47ad4b128",
   "metadata": {},
   "outputs": [
    {
     "name": "stdout",
     "output_type": "stream",
     "text": [
      "Matched text: world\n",
      "Matched text: 6\n",
      "Matched text: 11\n"
     ]
    }
   ],
   "source": [
    "pattern = r\"world\" #\n",
    "text=\"Hello world\"\n",
    "match=re.search(pattern,text) #case sensitive it will give all the  element that matches\n",
    "print(\"Matched text:\"  , match.group())\n",
    "print(\"Matched text:\"  , match.start()) #it will return starting index of matched text\n",
    "print(\"Matched text:\"  , match.end()) #it will return ending  index of matched text\n",
    " "
   ]
  },
  {
   "cell_type": "code",
   "execution_count": 124,
   "id": "199265e8-f1c9-499d-a961-9959980a5836",
   "metadata": {},
   "outputs": [
    {
     "name": "stdout",
     "output_type": "stream",
     "text": [
      "after substitution: the dog sat on the dog with mat.\n"
     ]
    }
   ],
   "source": [
    "pattern = r\"cat\" \n",
    "text=\"the cat sat on the cat with mat.\"\n",
    "result=re.sub(pattern,\"dog\",text) #this will replace all the occurence of cat with dog\n",
    "print(\"after substitution:\"  , result)\n"
   ]
  },
  {
   "cell_type": "code",
   "execution_count": 130,
   "id": "d4cc3c1e-862a-4582-a45b-788080d3dafb",
   "metadata": {},
   "outputs": [
    {
     "name": "stdout",
     "output_type": "stream",
     "text": [
      "after substitution: ['Split', 'this', 'sentence', 'by', 'spaces']\n"
     ]
    }
   ],
   "source": [
    "pattern = r\"\\s+\" \n",
    "text=\"Split         this sentence by spaces\"\n",
    "result=re.split(pattern,text) #this will split sentence where a space will come dont matter whteher it is one space or continuos \n",
    "print(\"after substitution:\"  , result)"
   ]
  },
  {
   "cell_type": "code",
   "execution_count": 132,
   "id": "c94e700a-1ea4-4ca5-8bf6-091706562a62",
   "metadata": {},
   "outputs": [
    {
     "name": "stdout",
     "output_type": "stream",
     "text": [
      "after substitution: ['Split', '', '', '', '', 'this', 'sentence', 'by', 'spaces']\n"
     ]
    }
   ],
   "source": [
    "pattern = r\"\\s+\" \n",
    "text=\"Split     this sentence by spaces\"\n",
    "result=text.split(\" \") #it will break with every next space\n",
    "print(\"after substitution:\"  , result)"
   ]
  },
  {
   "cell_type": "code",
   "execution_count": null,
   "id": "f1ced50d-26d6-4de2-b036-451e80ef2be5",
   "metadata": {},
   "outputs": [],
   "source": [
    "pattern = r\"\\s+\" \n",
    "text=\"Split     this sentence by spaces\"\n",
    "result=text.split(\" \") #it will break with every next space\n",
    "print(\"after substitution:\"  , result)"
   ]
  },
  {
   "cell_type": "code",
   "execution_count": 136,
   "id": "cc9f7dfe-b09d-4999-964e-eec4f3d68d3c",
   "metadata": {},
   "outputs": [
    {
     "name": "stdout",
     "output_type": "stream",
     "text": [
      "['123', '456']\n"
     ]
    }
   ],
   "source": [
    "pattern = re.compile(r\"\\d+\") \n",
    "text=\"123 apples , 456 bananans\"\n",
    "result=pattern.findall(text) \n",
    "print( result)"
   ]
  },
  {
   "cell_type": "code",
   "execution_count": 140,
   "id": "daafadfc-ebe7-4232-b5d1-4c42e7cf544c",
   "metadata": {},
   "outputs": [
    {
     "name": "stdout",
     "output_type": "stream",
     "text": [
      "match found : Hello\n"
     ]
    }
   ],
   "source": [
    "pattern = r\"hello\"  \n",
    "text=\"Hello World 123\"\n",
    "match=re.search(pattern,text,re.IGNORECASE) #case sensitive it will give the first element that matches\n",
    "print(\"match found :\"  , match.group() if match else \"no match\")"
   ]
  },
  {
   "cell_type": "code",
   "execution_count": null,
   "id": "c476f41c-771c-411d-af35-5f9da673b65b",
   "metadata": {},
   "outputs": [],
   "source": []
  }
 ],
 "metadata": {
  "kernelspec": {
   "display_name": "Python 3 (ipykernel)",
   "language": "python",
   "name": "python3"
  },
  "language_info": {
   "codemirror_mode": {
    "name": "ipython",
    "version": 3
   },
   "file_extension": ".py",
   "mimetype": "text/x-python",
   "name": "python",
   "nbconvert_exporter": "python",
   "pygments_lexer": "ipython3",
   "version": "3.12.4"
  }
 },
 "nbformat": 4,
 "nbformat_minor": 5
}
