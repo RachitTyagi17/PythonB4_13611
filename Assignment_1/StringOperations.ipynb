{
 "cells": [
  {
   "cell_type": "code",
   "execution_count": 11,
   "id": "eca7eed8-7855-4ce7-bef3-fc6e67bbfa73",
   "metadata": {},
   "outputs": [
    {
     "name": "stdin",
     "output_type": "stream",
     "text": [
      "Enter Your First Name rACHIT\n",
      "Enter Your Last Name tyagi\n"
     ]
    }
   ],
   "source": [
    "first_name = input(\"Enter Your First Name\")\n",
    "last_name = input(\"Enter Your Last Name\")"
   ]
  },
  {
   "cell_type": "code",
   "execution_count": 13,
   "id": "bf3d286d-5fbe-4247-bc1a-a413658ac010",
   "metadata": {},
   "outputs": [
    {
     "name": "stdout",
     "output_type": "stream",
     "text": [
      "Reverse of rACHIT tyagi is igayt TIHCAr\n"
     ]
    }
   ],
   "source": [
    "# Concatenate first_name and last_name \n",
    "full_name = first_name+\" \"+last_name \n",
    "# Reverse the string full_name using string slicing\n",
    "reverse_name = full_name[::-1]\n",
    "# Print the reversed name\n",
    "print(f\"Reverse of {full_name} is {reverse_name}\")"
   ]
  },
  {
   "cell_type": "code",
   "execution_count": null,
   "id": "2fc0a89a-5711-4b44-9ac1-7ce1f25fc7fc",
   "metadata": {},
   "outputs": [],
   "source": []
  }
 ],
 "metadata": {
  "kernelspec": {
   "display_name": "Python 3 (ipykernel)",
   "language": "python",
   "name": "python3"
  },
  "language_info": {
   "codemirror_mode": {
    "name": "ipython",
    "version": 3
   },
   "file_extension": ".py",
   "mimetype": "text/x-python",
   "name": "python",
   "nbconvert_exporter": "python",
   "pygments_lexer": "ipython3",
   "version": "3.12.4"
  }
 },
 "nbformat": 4,
 "nbformat_minor": 5
}
