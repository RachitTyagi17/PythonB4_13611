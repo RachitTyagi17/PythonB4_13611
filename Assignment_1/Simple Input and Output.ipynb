{
 "cells": [
  {
   "cell_type": "code",
   "execution_count": 12,
   "id": "98ed6b53-66c9-4a73-a76a-e66e3c7adfd9",
   "metadata": {},
   "outputs": [
    {
     "name": "stdin",
     "output_type": "stream",
     "text": [
      "Enter length of rectangle 2.77\n",
      "Enter width of rectangle 6.77\n"
     ]
    }
   ],
   "source": [
    "length_ofrectangle = float(input(\"Enter length of rectangle\"))\n",
    "width_ofrectangle = float(input(\"Enter width of rectangle\"))"
   ]
  },
  {
   "cell_type": "code",
   "execution_count": 14,
   "id": "09fbfe9a-909b-45a6-a723-ba69712a6818",
   "metadata": {},
   "outputs": [
    {
     "name": "stdout",
     "output_type": "stream",
     "text": [
      "Area of Rectangle whose length is 2.77 and whose width is 6.77 is = 18.7529\n"
     ]
    }
   ],
   "source": [
    "area_ofrectangle = float(length_ofrectangle*width_ofrectangle)\n",
    "print(f\"Area of Rectangle whose length is {length_ofrectangle} and whose width is {width_ofrectangle} is = {area_ofrectangle}\")"
   ]
  },
  {
   "cell_type": "code",
   "execution_count": 18,
   "id": "4bd8296b-5a5b-4111-b589-c747b7d5f83e",
   "metadata": {},
   "outputs": [
    {
     "name": "stdout",
     "output_type": "stream",
     "text": [
      "Area of Rectangle upto 2 decimal place whose length is 2.77 and whose width is 6.77 is = 18.75\n"
     ]
    }
   ],
   "source": [
    "# Round the area to two decimal places\n",
    "area_ofrectangle_rounded = round(area_ofrectangle, 2)\n",
    "print(f\"Area of Rectangle upto 2 decimal place whose length is {length_ofrectangle} and whose width is {width_ofrectangle} is = {area_ofrectangle_rounded}\")"
   ]
  },
  {
   "cell_type": "code",
   "execution_count": null,
   "id": "823e1432-fc81-4b18-a483-67b3de24f512",
   "metadata": {},
   "outputs": [],
   "source": []
  }
 ],
 "metadata": {
  "kernelspec": {
   "display_name": "Python 3 (ipykernel)",
   "language": "python",
   "name": "python3"
  },
  "language_info": {
   "codemirror_mode": {
    "name": "ipython",
    "version": 3
   },
   "file_extension": ".py",
   "mimetype": "text/x-python",
   "name": "python",
   "nbconvert_exporter": "python",
   "pygments_lexer": "ipython3",
   "version": "3.12.4"
  }
 },
 "nbformat": 4,
 "nbformat_minor": 5
}
