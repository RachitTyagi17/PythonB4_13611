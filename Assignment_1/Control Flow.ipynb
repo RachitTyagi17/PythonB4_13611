{
 "cells": [
  {
   "cell_type": "code",
   "execution_count": 9,
   "id": "a73ed0a1-b3bb-4405-9072-b6ac61e9851b",
   "metadata": {},
   "outputs": [
    {
     "name": "stdin",
     "output_type": "stream",
     "text": [
      "Enter the number 10\n"
     ]
    },
    {
     "name": "stdout",
     "output_type": "stream",
     "text": [
      "Number is positive\n"
     ]
    },
    {
     "name": "stdin",
     "output_type": "stream",
     "text": [
      "Enter the number -5\n"
     ]
    },
    {
     "name": "stdout",
     "output_type": "stream",
     "text": [
      "Number is negative\n"
     ]
    },
    {
     "name": "stdin",
     "output_type": "stream",
     "text": [
      "Enter the number 0\n"
     ]
    },
    {
     "name": "stdout",
     "output_type": "stream",
     "text": [
      "Number is zero\n"
     ]
    },
    {
     "name": "stdin",
     "output_type": "stream",
     "text": [
      "Enter the number Exit\n"
     ]
    },
    {
     "name": "stdout",
     "output_type": "stream",
     "text": [
      "Program exited\n"
     ]
    }
   ],
   "source": [
    "\n",
    "while(True):\n",
    " num = input(\"Enter the number\")\n",
    " # Check if the user entered \"exit\" \n",
    " if num.lower()==\"exit\" : \n",
    "     print(\"Program exited\")\n",
    "     break  # Exit the loop\n",
    " else:\n",
    "  \n",
    "  num = float(num)\n",
    "  \n",
    "  if num==0:\n",
    "    print(\"Number is zero\")\n",
    "  elif num>0:\n",
    "    print(\"Number is positive\")\n",
    "\n",
    "  else:\n",
    "    print(\"Number is negative\")\n",
    "    continue  # Prompt the user again\n",
    "      \n",
    " "
   ]
  },
  {
   "cell_type": "code",
   "execution_count": null,
   "id": "fe8dda26-07f9-4ae7-9b75-272567589552",
   "metadata": {},
   "outputs": [],
   "source": []
  }
 ],
 "metadata": {
  "kernelspec": {
   "display_name": "Python 3 (ipykernel)",
   "language": "python",
   "name": "python3"
  },
  "language_info": {
   "codemirror_mode": {
    "name": "ipython",
    "version": 3
   },
   "file_extension": ".py",
   "mimetype": "text/x-python",
   "name": "python",
   "nbconvert_exporter": "python",
   "pygments_lexer": "ipython3",
   "version": "3.12.4"
  }
 },
 "nbformat": 4,
 "nbformat_minor": 5
}
