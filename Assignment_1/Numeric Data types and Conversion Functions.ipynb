{
 "cells": [
  {
   "cell_type": "code",
   "execution_count": 10,
   "id": "6c0c8a72-8201-4695-a67f-5bf6b3e8b0d9",
   "metadata": {},
   "outputs": [
    {
     "name": "stdin",
     "output_type": "stream",
     "text": [
      "Enter your Integer Number 10\n",
      "Enter your Float Number 20\n"
     ]
    }
   ],
   "source": [
    "# An integer is a whole number without a fractional part\n",
    "int_num = input(\"Enter your Integer Number\")\n",
    "# A float is a number that includes a decimal point \n",
    "float_num= float(input(\"Enter your Float Number\"))"
   ]
  },
  {
   "cell_type": "code",
   "execution_count": 16,
   "id": "3d0ba1e2-e1a8-4084-956f-f4ba3d7a67b8",
   "metadata": {},
   "outputs": [
    {
     "name": "stdout",
     "output_type": "stream",
     "text": [
      "10.0\n",
      "20\n",
      "(10+0j)\n"
     ]
    }
   ],
   "source": [
    "# Convert the integer (int) to a float\n",
    "int_tofloat = float(int_num)\n",
    "print(int_tofloat)\n",
    "# Convert the float to an integer \n",
    "float_toint = int(float_num)\n",
    "print(float_toint)\n",
    "# Convert the integer to a complex number\n",
    "# A complex number in Python has a real part and an imaginary part\n",
    "int_tocomplex = complex(int_num)\n",
    "print(int_tocomplex)\n",
    "\n"
   ]
  },
  {
   "cell_type": "code",
   "execution_count": null,
   "id": "5e18d374-c7dc-4cb7-8ee8-03ccd67181b8",
   "metadata": {},
   "outputs": [],
   "source": []
  }
 ],
 "metadata": {
  "kernelspec": {
   "display_name": "Python 3 (ipykernel)",
   "language": "python",
   "name": "python3"
  },
  "language_info": {
   "codemirror_mode": {
    "name": "ipython",
    "version": 3
   },
   "file_extension": ".py",
   "mimetype": "text/x-python",
   "name": "python",
   "nbconvert_exporter": "python",
   "pygments_lexer": "ipython3",
   "version": "3.12.4"
  }
 },
 "nbformat": 4,
 "nbformat_minor": 5
}
