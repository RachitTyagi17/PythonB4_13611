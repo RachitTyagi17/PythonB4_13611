{
 "cells": [
  {
   "cell_type": "code",
   "execution_count": 16,
   "id": "360b4822-3d10-430d-8a99-c9cc96afe21e",
   "metadata": {},
   "outputs": [
    {
     "name": "stdin",
     "output_type": "stream",
     "text": [
      "Enter the first number:  7\n",
      "Enter the second number:  47\n",
      "Enter the third number:  73\n"
     ]
    },
    {
     "name": "stdout",
     "output_type": "stream",
     "text": [
      "The average of 7.0 , 47.0 & 73.0 is: 42.33\n"
     ]
    }
   ],
   "source": [
    "# Take three numbers as input from the user\n",
    "num1 = float(input(\"Enter the first number: \"))\n",
    "num2 = float(input(\"Enter the second number: \"))\n",
    "num3 = float(input(\"Enter the third number: \"))\n",
    "\n",
    "# Calculate the average of the three numbers\n",
    "average = (num1 + num2 + num3) / 3\n",
    "\n",
    "# Print the average using the '%' method for string formatting\n",
    "print(f\"The average of {num1} , {num2} & {num3} is: %.2f\" % average)"
   ]
  },
  {
   "cell_type": "code",
   "execution_count": null,
   "id": "ff95c607-86f3-40af-99ba-4d8806304ffa",
   "metadata": {},
   "outputs": [],
   "source": []
  }
 ],
 "metadata": {
  "kernelspec": {
   "display_name": "Python 3 (ipykernel)",
   "language": "python",
   "name": "python3"
  },
  "language_info": {
   "codemirror_mode": {
    "name": "ipython",
    "version": 3
   },
   "file_extension": ".py",
   "mimetype": "text/x-python",
   "name": "python",
   "nbconvert_exporter": "python",
   "pygments_lexer": "ipython3",
   "version": "3.12.4"
  }
 },
 "nbformat": 4,
 "nbformat_minor": 5
}
