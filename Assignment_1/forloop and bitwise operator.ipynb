{
 "cells": [
  {
   "cell_type": "code",
   "execution_count": 51,
   "id": "c53e77f0-4601-4cd6-bfa8-f0fc45bbd80c",
   "metadata": {},
   "outputs": [
    {
     "name": "stdin",
     "output_type": "stream",
     "text": [
      "Enter The Number : 5\n"
     ]
    }
   ],
   "source": [
    "num = int(input(\"Enter The Number :\"))"
   ]
  },
  {
   "cell_type": "code",
   "execution_count": 53,
   "id": "b726bad8-afa9-464f-ac9c-656eb88bff7c",
   "metadata": {},
   "outputs": [
    {
     "name": "stdout",
     "output_type": "stream",
     "text": [
      "0b101\n",
      "0x5\n",
      "0o5\n"
     ]
    }
   ],
   "source": [
    "\n",
    "binary_num = bin(num)\n",
    "hexa_num = hex(num)\n",
    "octal_num = oct(num)\n",
    "print(binary_num)\n",
    "print(hexa_num)\n",
    "print(octal_num)\n"
   ]
  },
  {
   "cell_type": "code",
   "execution_count": null,
   "id": "f5471191-f1ff-46a5-9eab-6be711363ddc",
   "metadata": {},
   "outputs": [],
   "source": [
    "0b11011111011000110001111101011111\n",
    "0b110111101000111100110011101110111"
   ]
  }
 ],
 "metadata": {
  "kernelspec": {
   "display_name": "Python 3 (ipykernel)",
   "language": "python",
   "name": "python3"
  },
  "language_info": {
   "codemirror_mode": {
    "name": "ipython",
    "version": 3
   },
   "file_extension": ".py",
   "mimetype": "text/x-python",
   "name": "python",
   "nbconvert_exporter": "python",
   "pygments_lexer": "ipython3",
   "version": "3.12.4"
  }
 },
 "nbformat": 4,
 "nbformat_minor": 5
}
