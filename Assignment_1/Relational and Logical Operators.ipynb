{
 "cells": [
  {
   "cell_type": "code",
   "execution_count": 22,
   "id": "f34f2f6e-eedd-46dc-9f11-b21da0e1d2a5",
   "metadata": {},
   "outputs": [
    {
     "name": "stdin",
     "output_type": "stream",
     "text": [
      "Enter first number 6\n",
      "Enter first number 8\n"
     ]
    }
   ],
   "source": [
    "num1 = int(input(\"Enter first number\"))\n",
    "num2 = int(input(\"Enter first number\"))\n",
    "\n"
   ]
  },
  {
   "cell_type": "code",
   "execution_count": 24,
   "id": "162a9e33-9bde-4f83-9127-4036690e4284",
   "metadata": {},
   "outputs": [
    {
     "name": "stdout",
     "output_type": "stream",
     "text": [
      "6 and 8 Are both even numbers\n"
     ]
    }
   ],
   "source": [
    "# Check if both numbers are even\n",
    "if(num1%2==0 and num2%2==0):\n",
    "    print(f\"{num1} and {num2} Are both even numbers\")\n",
    "# Check if both numbers are odd\n",
    "elif(num1%2!=0 and num2%2!=0):\n",
    "    print(f\"{num1} and {num2} Are both odd numbers\")\n",
    "else:\n",
    "    print(\"One number is even and one is odd\")\n"
   ]
  },
  {
   "cell_type": "code",
   "execution_count": null,
   "id": "b85ef23c-52cc-471c-870a-eac78bdf95cd",
   "metadata": {},
   "outputs": [],
   "source": []
  }
 ],
 "metadata": {
  "kernelspec": {
   "display_name": "Python 3 (ipykernel)",
   "language": "python",
   "name": "python3"
  },
  "language_info": {
   "codemirror_mode": {
    "name": "ipython",
    "version": 3
   },
   "file_extension": ".py",
   "mimetype": "text/x-python",
   "name": "python",
   "nbconvert_exporter": "python",
   "pygments_lexer": "ipython3",
   "version": "3.12.4"
  }
 },
 "nbformat": 4,
 "nbformat_minor": 5
}
