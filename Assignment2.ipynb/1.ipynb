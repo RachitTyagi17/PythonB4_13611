{
 "cells": [
  {
   "cell_type": "code",
   "execution_count": 2,
   "id": "3d95dbb8-a62b-4622-ac16-3f62e50bb6df",
   "metadata": {},
   "outputs": [
    {
     "name": "stdout",
     "output_type": "stream",
     "text": [
      "Hello Alice\n",
      "Good Morning Bob\n"
     ]
    }
   ],
   "source": [
    "def greet(name, greeting=\"Hello\"):\n",
    "    return f\"{greeting} {name}\"\n",
    "\n",
    "# Example Usage:\n",
    "print(greet(\"Alice\"))  # Output: \"Hello Alice\"\n",
    "print(greet(\"Bob\", \"Good Morning\"))  # Output: \"Good Morning Bob\""
   ]
  },
  {
   "cell_type": "code",
   "execution_count": null,
   "id": "9902801c-24e9-461a-bdf7-e4b9f02adc76",
   "metadata": {},
   "outputs": [],
   "source": []
  }
 ],
 "metadata": {
  "kernelspec": {
   "display_name": "Python 3 (ipykernel)",
   "language": "python",
   "name": "python3"
  },
  "language_info": {
   "codemirror_mode": {
    "name": "ipython",
    "version": 3
   },
   "file_extension": ".py",
   "mimetype": "text/x-python",
   "name": "python",
   "nbconvert_exporter": "python",
   "pygments_lexer": "ipython3",
   "version": "3.12.4"
  }
 },
 "nbformat": 4,
 "nbformat_minor": 5
}
