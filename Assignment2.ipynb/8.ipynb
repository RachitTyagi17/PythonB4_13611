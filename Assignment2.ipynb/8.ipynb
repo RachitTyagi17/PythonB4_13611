{
 "cells": [
  {
   "cell_type": "code",
   "execution_count": 4,
   "id": "55277a53-f6c0-4b54-8e41-2d89efef8916",
   "metadata": {},
   "outputs": [],
   "source": [
    "import os\n",
    "import time\n",
    "\n",
    "def file_operations():\n",
    "    os.makedirs(\"test_folder\")\n",
    "    time.sleep(3)\n",
    "    os.rmdir(\"test_folder\")\n",
    "\n",
    "# Example Usage:\n",
    "file_operations()  # Creates \"test_folder\", pauses for 3 seconds, and deletes it."
   ]
  },
  {
   "cell_type": "code",
   "execution_count": null,
   "id": "39debdd8-2378-498b-97fb-8fc718cae251",
   "metadata": {},
   "outputs": [],
   "source": []
  }
 ],
 "metadata": {
  "kernelspec": {
   "display_name": "Python 3 (ipykernel)",
   "language": "python",
   "name": "python3"
  },
  "language_info": {
   "codemirror_mode": {
    "name": "ipython",
    "version": 3
   },
   "file_extension": ".py",
   "mimetype": "text/x-python",
   "name": "python",
   "nbconvert_exporter": "python",
   "pygments_lexer": "ipython3",
   "version": "3.12.4"
  }
 },
 "nbformat": 4,
 "nbformat_minor": 5
}
