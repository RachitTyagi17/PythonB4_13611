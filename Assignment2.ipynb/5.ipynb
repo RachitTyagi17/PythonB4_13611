{
 "cells": [
  {
   "cell_type": "code",
   "execution_count": 2,
   "id": "b31e8ea1-e26e-4ba4-8814-e9765721b68b",
   "metadata": {},
   "outputs": [
    {
     "name": "stdout",
     "output_type": "stream",
     "text": [
      "[2, 4]\n"
     ]
    }
   ],
   "source": [
    "def filter_odd_numbers(numbers):\n",
    "    return list(filter(lambda x: x % 2 == 0, numbers))\n",
    "\n",
    "# Example Usage:\n",
    "print(filter_odd_numbers([1, 2, 3, 4, 5]))  # Output: [2, 4]"
   ]
  },
  {
   "cell_type": "code",
   "execution_count": null,
   "id": "e1d77621-8ce6-46ae-af7d-1be0406bb3ce",
   "metadata": {},
   "outputs": [],
   "source": []
  }
 ],
 "metadata": {
  "kernelspec": {
   "display_name": "Python 3 (ipykernel)",
   "language": "python",
   "name": "python3"
  },
  "language_info": {
   "codemirror_mode": {
    "name": "ipython",
    "version": 3
   },
   "file_extension": ".py",
   "mimetype": "text/x-python",
   "name": "python",
   "nbconvert_exporter": "python",
   "pygments_lexer": "ipython3",
   "version": "3.12.4"
  }
 },
 "nbformat": 4,
 "nbformat_minor": 5
}
