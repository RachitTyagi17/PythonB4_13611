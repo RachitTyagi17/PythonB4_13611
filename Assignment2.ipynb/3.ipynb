{
 "cells": [
  {
   "cell_type": "code",
   "execution_count": 2,
   "id": "183a7528-e746-4d71-a733-b020b66ba8ba",
   "metadata": {},
   "outputs": [
    {
     "name": "stdout",
     "output_type": "stream",
     "text": [
      "(6, {})\n",
      "(3, {'x': 4, 'y': 5})\n"
     ]
    }
   ],
   "source": [
    "def sum_numbers(*args, **kwargs):\n",
    "    args_sum = sum(arg for arg in args if isinstance(arg, (int, float)))\n",
    "    return args_sum, kwargs\n",
    "\n",
    "# Example Usage:\n",
    "print(sum_numbers(1, 2, 3))  # Output: (6, {})\n",
    "print(sum_numbers(1, 2, x=4, y=5))  # Output: (3, {'x': 4, 'y': 5})"
   ]
  },
  {
   "cell_type": "code",
   "execution_count": null,
   "id": "490cf9bb-cee1-40d7-81d8-7eebc15eae13",
   "metadata": {},
   "outputs": [],
   "source": []
  }
 ],
 "metadata": {
  "kernelspec": {
   "display_name": "Python 3 (ipykernel)",
   "language": "python",
   "name": "python3"
  },
  "language_info": {
   "codemirror_mode": {
    "name": "ipython",
    "version": 3
   },
   "file_extension": ".py",
   "mimetype": "text/x-python",
   "name": "python",
   "nbconvert_exporter": "python",
   "pygments_lexer": "ipython3",
   "version": "3.12.4"
  }
 },
 "nbformat": 4,
 "nbformat_minor": 5
}
