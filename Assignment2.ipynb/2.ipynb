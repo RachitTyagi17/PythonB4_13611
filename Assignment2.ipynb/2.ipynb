{
 "cells": [
  {
   "cell_type": "code",
   "execution_count": 2,
   "id": "126a6473-3599-44f1-ae43-4cf1d10e0b61",
   "metadata": {},
   "outputs": [
    {
     "name": "stdout",
     "output_type": "stream",
     "text": [
      "Name: John, Age: 18, City: Chicago\n",
      "Name: Emma, Age: 22, City: Los Angeles\n"
     ]
    }
   ],
   "source": [
    "def create_profile(name, city, age=18):\n",
    "    return f\"Name: {name}, Age: {age}, City: {city}\"\n",
    "\n",
    "# Example Usage:\n",
    "print(create_profile(name=\"John\", city=\"Chicago\"))  # Output: \"Name: John, Age: 18, City: Chicago\"\n",
    "print(create_profile(name=\"Emma\", age=22, city=\"Los Angeles\"))  # Output: \"Name: Emma, Age: 22, City: Los Angeles\""
   ]
  },
  {
   "cell_type": "code",
   "execution_count": null,
   "id": "4623ecab-3e6e-4359-b2a0-2397fa473e5a",
   "metadata": {},
   "outputs": [],
   "source": []
  }
 ],
 "metadata": {
  "kernelspec": {
   "display_name": "Python 3 (ipykernel)",
   "language": "python",
   "name": "python3"
  },
  "language_info": {
   "codemirror_mode": {
    "name": "ipython",
    "version": 3
   },
   "file_extension": ".py",
   "mimetype": "text/x-python",
   "name": "python",
   "nbconvert_exporter": "python",
   "pygments_lexer": "ipython3",
   "version": "3.12.4"
  }
 },
 "nbformat": 4,
 "nbformat_minor": 5
}
